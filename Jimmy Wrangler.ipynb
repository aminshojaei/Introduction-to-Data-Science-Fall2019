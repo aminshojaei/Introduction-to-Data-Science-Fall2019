{
 "cells": [
  {
   "cell_type": "markdown",
   "metadata": {},
   "source": [
    "# Jimmy Wrangler Project\n"
   ]
  },
  {
   "cell_type": "markdown",
   "metadata": {},
   "source": [
    "Import the libraries\n"
   ]
  },
  {
   "cell_type": "code",
   "execution_count": 44,
   "metadata": {},
   "outputs": [],
   "source": [
    "import pandas as pd\n",
    "import matplotlib.pyplot as plt"
   ]
  },
  {
   "cell_type": "markdown",
   "metadata": {},
   "source": [
    "Defining variables section:"
   ]
  },
  {
   "cell_type": "code",
   "execution_count": 45,
   "metadata": {},
   "outputs": [],
   "source": [
    "Ave_temp_vector=[]\n",
    "Solar_sum_vector=[]\n",
    "Wind_sum_vector=[]\n",
    "Ave_wind_speed_vector=[]\n",
    "other_renewable_sum_vector=[]\n",
    "total_load_sum_vector=[]\n",
    "total_load_sum_year=0\n",
    "Solar_sum_year=0\n",
    "Wind_sum_year=0\n",
    "other_renewable_sum_year=0"
   ]
  },
  {
   "cell_type": "markdown",
   "metadata": {},
   "source": [
    " - load 2 datasets from github repository. One is for generation power from various sources in Spain from 2015 to 2018 and the other is weather condition for different cities in Spain from 2015 to 2018. "
   ]
  },
  {
   "cell_type": "code",
   "execution_count": 46,
   "metadata": {},
   "outputs": [],
   "source": [
    "Spain_generation = pd.read_csv('https://raw.githubusercontent.com/aminshojaei/Introduction-to-Data-Science-Fall2019/master/energy_dataset.csv', low_memory = False)\n",
    "Spain_weather = pd.read_csv('https://raw.githubusercontent.com/aminshojaei/Jimmy-Wrangler-Data-Explorer/master/weather_features.csv', low_memory = False)\n"
   ]
  },
  {
   "cell_type": "markdown",
   "metadata": {},
   "source": [
    "- Select time and solar and wind generation from generation dataset\n",
    "- Select time, city , temp and wind speed from weather dataset"
   ]
  },
  {
   "cell_type": "code",
   "execution_count": 47,
   "metadata": {},
   "outputs": [],
   "source": [
    "\n",
    "S_generation = Spain_generation [['time' ,'generation solar', 'generation wind onshore','generation other renewable','total load actual']]\n",
    "S_weather = Spain_weather [['dt_iso','city_name' ,'temp', 'wind_speed']]\n"
   ]
  },
  {
   "cell_type": "code",
   "execution_count": 48,
   "metadata": {},
   "outputs": [
    {
     "data": {
      "text/html": [
       "<div>\n",
       "<style scoped>\n",
       "    .dataframe tbody tr th:only-of-type {\n",
       "        vertical-align: middle;\n",
       "    }\n",
       "\n",
       "    .dataframe tbody tr th {\n",
       "        vertical-align: top;\n",
       "    }\n",
       "\n",
       "    .dataframe thead th {\n",
       "        text-align: right;\n",
       "    }\n",
       "</style>\n",
       "<table border=\"1\" class=\"dataframe\">\n",
       "  <thead>\n",
       "    <tr style=\"text-align: right;\">\n",
       "      <th></th>\n",
       "      <th>time</th>\n",
       "      <th>generation solar</th>\n",
       "      <th>generation wind onshore</th>\n",
       "      <th>generation other renewable</th>\n",
       "      <th>total load actual</th>\n",
       "    </tr>\n",
       "  </thead>\n",
       "  <tbody>\n",
       "    <tr>\n",
       "      <td>0</td>\n",
       "      <td>2015-01-01 00:00:00+01:00</td>\n",
       "      <td>49.0</td>\n",
       "      <td>6378.0</td>\n",
       "      <td>73.0</td>\n",
       "      <td>25385.0</td>\n",
       "    </tr>\n",
       "    <tr>\n",
       "      <td>1</td>\n",
       "      <td>2015-01-01 01:00:00+01:00</td>\n",
       "      <td>50.0</td>\n",
       "      <td>5890.0</td>\n",
       "      <td>71.0</td>\n",
       "      <td>24382.0</td>\n",
       "    </tr>\n",
       "    <tr>\n",
       "      <td>2</td>\n",
       "      <td>2015-01-01 02:00:00+01:00</td>\n",
       "      <td>50.0</td>\n",
       "      <td>5461.0</td>\n",
       "      <td>73.0</td>\n",
       "      <td>22734.0</td>\n",
       "    </tr>\n",
       "    <tr>\n",
       "      <td>3</td>\n",
       "      <td>2015-01-01 03:00:00+01:00</td>\n",
       "      <td>50.0</td>\n",
       "      <td>5238.0</td>\n",
       "      <td>75.0</td>\n",
       "      <td>21286.0</td>\n",
       "    </tr>\n",
       "    <tr>\n",
       "      <td>4</td>\n",
       "      <td>2015-01-01 04:00:00+01:00</td>\n",
       "      <td>42.0</td>\n",
       "      <td>4935.0</td>\n",
       "      <td>74.0</td>\n",
       "      <td>20264.0</td>\n",
       "    </tr>\n",
       "  </tbody>\n",
       "</table>\n",
       "</div>"
      ],
      "text/plain": [
       "                        time  generation solar  generation wind onshore  \\\n",
       "0  2015-01-01 00:00:00+01:00              49.0                   6378.0   \n",
       "1  2015-01-01 01:00:00+01:00              50.0                   5890.0   \n",
       "2  2015-01-01 02:00:00+01:00              50.0                   5461.0   \n",
       "3  2015-01-01 03:00:00+01:00              50.0                   5238.0   \n",
       "4  2015-01-01 04:00:00+01:00              42.0                   4935.0   \n",
       "\n",
       "   generation other renewable  total load actual  \n",
       "0                        73.0            25385.0  \n",
       "1                        71.0            24382.0  \n",
       "2                        73.0            22734.0  \n",
       "3                        75.0            21286.0  \n",
       "4                        74.0            20264.0  "
      ]
     },
     "execution_count": 48,
     "metadata": {},
     "output_type": "execute_result"
    }
   ],
   "source": [
    "S_generation.head()  # Top 5 row of the S_generation dataset"
   ]
  },
  {
   "cell_type": "code",
   "execution_count": 49,
   "metadata": {},
   "outputs": [
    {
     "data": {
      "text/html": [
       "<div>\n",
       "<style scoped>\n",
       "    .dataframe tbody tr th:only-of-type {\n",
       "        vertical-align: middle;\n",
       "    }\n",
       "\n",
       "    .dataframe tbody tr th {\n",
       "        vertical-align: top;\n",
       "    }\n",
       "\n",
       "    .dataframe thead th {\n",
       "        text-align: right;\n",
       "    }\n",
       "</style>\n",
       "<table border=\"1\" class=\"dataframe\">\n",
       "  <thead>\n",
       "    <tr style=\"text-align: right;\">\n",
       "      <th></th>\n",
       "      <th>dt_iso</th>\n",
       "      <th>city_name</th>\n",
       "      <th>temp</th>\n",
       "      <th>wind_speed</th>\n",
       "    </tr>\n",
       "  </thead>\n",
       "  <tbody>\n",
       "    <tr>\n",
       "      <td>0</td>\n",
       "      <td>2015-01-01 00:00:00+01:00</td>\n",
       "      <td>Valencia</td>\n",
       "      <td>270.475</td>\n",
       "      <td>1</td>\n",
       "    </tr>\n",
       "    <tr>\n",
       "      <td>1</td>\n",
       "      <td>2015-01-01 01:00:00+01:00</td>\n",
       "      <td>Valencia</td>\n",
       "      <td>270.475</td>\n",
       "      <td>1</td>\n",
       "    </tr>\n",
       "    <tr>\n",
       "      <td>2</td>\n",
       "      <td>2015-01-01 02:00:00+01:00</td>\n",
       "      <td>Valencia</td>\n",
       "      <td>269.686</td>\n",
       "      <td>0</td>\n",
       "    </tr>\n",
       "    <tr>\n",
       "      <td>3</td>\n",
       "      <td>2015-01-01 03:00:00+01:00</td>\n",
       "      <td>Valencia</td>\n",
       "      <td>269.686</td>\n",
       "      <td>0</td>\n",
       "    </tr>\n",
       "    <tr>\n",
       "      <td>4</td>\n",
       "      <td>2015-01-01 04:00:00+01:00</td>\n",
       "      <td>Valencia</td>\n",
       "      <td>269.686</td>\n",
       "      <td>0</td>\n",
       "    </tr>\n",
       "    <tr>\n",
       "      <td>5</td>\n",
       "      <td>2015-01-01 05:00:00+01:00</td>\n",
       "      <td>Valencia</td>\n",
       "      <td>270.292</td>\n",
       "      <td>2</td>\n",
       "    </tr>\n",
       "    <tr>\n",
       "      <td>6</td>\n",
       "      <td>2015-01-01 06:00:00+01:00</td>\n",
       "      <td>Valencia</td>\n",
       "      <td>270.292</td>\n",
       "      <td>2</td>\n",
       "    </tr>\n",
       "    <tr>\n",
       "      <td>7</td>\n",
       "      <td>2015-01-01 07:00:00+01:00</td>\n",
       "      <td>Valencia</td>\n",
       "      <td>270.292</td>\n",
       "      <td>2</td>\n",
       "    </tr>\n",
       "    <tr>\n",
       "      <td>8</td>\n",
       "      <td>2015-01-01 08:00:00+01:00</td>\n",
       "      <td>Valencia</td>\n",
       "      <td>274.601</td>\n",
       "      <td>1</td>\n",
       "    </tr>\n",
       "    <tr>\n",
       "      <td>9</td>\n",
       "      <td>2015-01-01 09:00:00+01:00</td>\n",
       "      <td>Valencia</td>\n",
       "      <td>274.601</td>\n",
       "      <td>1</td>\n",
       "    </tr>\n",
       "  </tbody>\n",
       "</table>\n",
       "</div>"
      ],
      "text/plain": [
       "                      dt_iso city_name     temp  wind_speed\n",
       "0  2015-01-01 00:00:00+01:00  Valencia  270.475           1\n",
       "1  2015-01-01 01:00:00+01:00  Valencia  270.475           1\n",
       "2  2015-01-01 02:00:00+01:00  Valencia  269.686           0\n",
       "3  2015-01-01 03:00:00+01:00  Valencia  269.686           0\n",
       "4  2015-01-01 04:00:00+01:00  Valencia  269.686           0\n",
       "5  2015-01-01 05:00:00+01:00  Valencia  270.292           2\n",
       "6  2015-01-01 06:00:00+01:00  Valencia  270.292           2\n",
       "7  2015-01-01 07:00:00+01:00  Valencia  270.292           2\n",
       "8  2015-01-01 08:00:00+01:00  Valencia  274.601           1\n",
       "9  2015-01-01 09:00:00+01:00  Valencia  274.601           1"
      ]
     },
     "execution_count": 49,
     "metadata": {},
     "output_type": "execute_result"
    }
   ],
   "source": [
    "S_weather.head(10)   # top 10 row of the S_weather dataset"
   ]
  },
  {
   "cell_type": "code",
   "execution_count": 50,
   "metadata": {},
   "outputs": [],
   "source": [
    "i = 0     ## slelect a number for choosing which city are you looking for\n",
    "if i==0 : City_name = \"Valencia\"\n",
    "if i==1 : City_name = \"Madrid\"\n",
    "if i==2 : City_name = \"Bilbao\"\n",
    "if i==3 : City_name = \"Barcelona\"\n",
    "if i==4 : City_name = \"Seville\"\n",
    "    "
   ]
  },
  {
   "cell_type": "markdown",
   "metadata": {},
   "source": [
    "With selecting i a specific city is chosen. Then select 2018 data for both datasets"
   ]
  },
  {
   "cell_type": "code",
   "execution_count": 51,
   "metadata": {},
   "outputs": [],
   "source": [
    "## Select a specific city \n",
    "S_weather_city = S_weather.loc[S_weather.city_name == City_name]\n",
    "\n",
    "## Select 2018 data for both datasets\n",
    "S_weather_city = S_weather_city.loc[S_weather_city.dt_iso >='2018-01-01' ]   \n",
    "S_generation = S_generation.loc[S_generation.time >='2018-01-01']"
   ]
  },
  {
   "cell_type": "markdown",
   "metadata": {},
   "source": [
    "# Cleaning and merging the data:"
   ]
  },
  {
   "cell_type": "markdown",
   "metadata": {},
   "source": [
    "-  removing the duplicated data.\n"
   ]
  },
  {
   "cell_type": "code",
   "execution_count": 52,
   "metadata": {},
   "outputs": [],
   "source": [
    "S_weather_city= S_weather_city.drop_duplicates()\n",
    "S_generation = S_generation.drop_duplicates()"
   ]
  },
  {
   "cell_type": "markdown",
   "metadata": {},
   "source": [
    "- rename the second column name in dataset (weather) to time to be same as the dataset one "
   ]
  },
  {
   "cell_type": "code",
   "execution_count": 53,
   "metadata": {},
   "outputs": [],
   "source": [
    "S_weather_city.rename(columns={'dt_iso':'time'}, inplace=True)"
   ]
  },
  {
   "cell_type": "markdown",
   "metadata": {},
   "source": [
    "- merge 2 datasets based on the column time."
   ]
  },
  {
   "cell_type": "code",
   "execution_count": 54,
   "metadata": {},
   "outputs": [],
   "source": [
    "merged= pd.merge(S_generation,S_weather_city[['time','temp','wind_speed']], on='time')"
   ]
  },
  {
   "cell_type": "markdown",
   "metadata": {},
   "source": [
    "- Changed the temp from Kelvin to Celcius"
   ]
  },
  {
   "cell_type": "code",
   "execution_count": 55,
   "metadata": {},
   "outputs": [],
   "source": [
    "merged['temp']= merged['temp'] - 273.15"
   ]
  },
  {
   "cell_type": "markdown",
   "metadata": {},
   "source": [
    "- Some data are NaN. To find those data and remove them do this:"
   ]
  },
  {
   "cell_type": "code",
   "execution_count": 56,
   "metadata": {},
   "outputs": [
    {
     "data": {
      "text/html": [
       "<div>\n",
       "<style scoped>\n",
       "    .dataframe tbody tr th:only-of-type {\n",
       "        vertical-align: middle;\n",
       "    }\n",
       "\n",
       "    .dataframe tbody tr th {\n",
       "        vertical-align: top;\n",
       "    }\n",
       "\n",
       "    .dataframe thead th {\n",
       "        text-align: right;\n",
       "    }\n",
       "</style>\n",
       "<table border=\"1\" class=\"dataframe\">\n",
       "  <thead>\n",
       "    <tr style=\"text-align: right;\">\n",
       "      <th></th>\n",
       "      <th>time</th>\n",
       "      <th>generation solar</th>\n",
       "      <th>generation wind onshore</th>\n",
       "      <th>generation other renewable</th>\n",
       "      <th>total load actual</th>\n",
       "      <th>temp</th>\n",
       "      <th>wind_speed</th>\n",
       "    </tr>\n",
       "  </thead>\n",
       "  <tbody>\n",
       "    <tr>\n",
       "      <td>0</td>\n",
       "      <td>False</td>\n",
       "      <td>False</td>\n",
       "      <td>False</td>\n",
       "      <td>False</td>\n",
       "      <td>False</td>\n",
       "      <td>False</td>\n",
       "      <td>False</td>\n",
       "    </tr>\n",
       "    <tr>\n",
       "      <td>1</td>\n",
       "      <td>False</td>\n",
       "      <td>False</td>\n",
       "      <td>False</td>\n",
       "      <td>False</td>\n",
       "      <td>False</td>\n",
       "      <td>False</td>\n",
       "      <td>False</td>\n",
       "    </tr>\n",
       "    <tr>\n",
       "      <td>2</td>\n",
       "      <td>False</td>\n",
       "      <td>False</td>\n",
       "      <td>False</td>\n",
       "      <td>False</td>\n",
       "      <td>False</td>\n",
       "      <td>False</td>\n",
       "      <td>False</td>\n",
       "    </tr>\n",
       "    <tr>\n",
       "      <td>3</td>\n",
       "      <td>False</td>\n",
       "      <td>False</td>\n",
       "      <td>False</td>\n",
       "      <td>False</td>\n",
       "      <td>False</td>\n",
       "      <td>False</td>\n",
       "      <td>False</td>\n",
       "    </tr>\n",
       "    <tr>\n",
       "      <td>4</td>\n",
       "      <td>False</td>\n",
       "      <td>False</td>\n",
       "      <td>False</td>\n",
       "      <td>False</td>\n",
       "      <td>False</td>\n",
       "      <td>False</td>\n",
       "      <td>False</td>\n",
       "    </tr>\n",
       "  </tbody>\n",
       "</table>\n",
       "</div>"
      ],
      "text/plain": [
       "    time  generation solar  generation wind onshore  \\\n",
       "0  False             False                    False   \n",
       "1  False             False                    False   \n",
       "2  False             False                    False   \n",
       "3  False             False                    False   \n",
       "4  False             False                    False   \n",
       "\n",
       "   generation other renewable  total load actual   temp  wind_speed  \n",
       "0                       False              False  False       False  \n",
       "1                       False              False  False       False  \n",
       "2                       False              False  False       False  \n",
       "3                       False              False  False       False  \n",
       "4                       False              False  False       False  "
      ]
     },
     "execution_count": 56,
     "metadata": {},
     "output_type": "execute_result"
    }
   ],
   "source": [
    "NaN=merged.isna()      # To show the NaN values\n",
    "merged=merged.dropna(how='any')\n",
    "NaN.head()"
   ]
  },
  {
   "cell_type": "markdown",
   "metadata": {},
   "source": [
    "- Now after cleanig the data we can show some statics summary and then do some idea "
   ]
  },
  {
   "cell_type": "code",
   "execution_count": 57,
   "metadata": {},
   "outputs": [
    {
     "data": {
      "text/html": [
       "<div>\n",
       "<style scoped>\n",
       "    .dataframe tbody tr th:only-of-type {\n",
       "        vertical-align: middle;\n",
       "    }\n",
       "\n",
       "    .dataframe tbody tr th {\n",
       "        vertical-align: top;\n",
       "    }\n",
       "\n",
       "    .dataframe thead th {\n",
       "        text-align: right;\n",
       "    }\n",
       "</style>\n",
       "<table border=\"1\" class=\"dataframe\">\n",
       "  <thead>\n",
       "    <tr style=\"text-align: right;\">\n",
       "      <th></th>\n",
       "      <th>generation solar</th>\n",
       "      <th>generation wind onshore</th>\n",
       "      <th>generation other renewable</th>\n",
       "      <th>total load actual</th>\n",
       "      <th>temp</th>\n",
       "      <th>wind_speed</th>\n",
       "    </tr>\n",
       "  </thead>\n",
       "  <tbody>\n",
       "    <tr>\n",
       "      <td>count</td>\n",
       "      <td>8758.000000</td>\n",
       "      <td>8758.000000</td>\n",
       "      <td>8758.000000</td>\n",
       "      <td>8758.000000</td>\n",
       "      <td>8758.000000</td>\n",
       "      <td>8758.000000</td>\n",
       "    </tr>\n",
       "    <tr>\n",
       "      <td>mean</td>\n",
       "      <td>1372.868235</td>\n",
       "      <td>5584.157799</td>\n",
       "      <td>97.894154</td>\n",
       "      <td>29063.609386</td>\n",
       "      <td>18.225678</td>\n",
       "      <td>3.011761</td>\n",
       "    </tr>\n",
       "    <tr>\n",
       "      <td>std</td>\n",
       "      <td>1658.227644</td>\n",
       "      <td>3307.747961</td>\n",
       "      <td>7.635980</td>\n",
       "      <td>4627.361696</td>\n",
       "      <td>7.179231</td>\n",
       "      <td>2.179660</td>\n",
       "    </tr>\n",
       "    <tr>\n",
       "      <td>min</td>\n",
       "      <td>2.000000</td>\n",
       "      <td>243.000000</td>\n",
       "      <td>4.000000</td>\n",
       "      <td>18179.000000</td>\n",
       "      <td>0.000000</td>\n",
       "      <td>0.000000</td>\n",
       "    </tr>\n",
       "    <tr>\n",
       "      <td>25%</td>\n",
       "      <td>52.000000</td>\n",
       "      <td>2913.000000</td>\n",
       "      <td>93.000000</td>\n",
       "      <td>25118.500000</td>\n",
       "      <td>13.000000</td>\n",
       "      <td>1.000000</td>\n",
       "    </tr>\n",
       "    <tr>\n",
       "      <td>50%</td>\n",
       "      <td>560.000000</td>\n",
       "      <td>4962.000000</td>\n",
       "      <td>98.000000</td>\n",
       "      <td>29171.500000</td>\n",
       "      <td>18.000000</td>\n",
       "      <td>2.000000</td>\n",
       "    </tr>\n",
       "    <tr>\n",
       "      <td>75%</td>\n",
       "      <td>2438.750000</td>\n",
       "      <td>7703.000000</td>\n",
       "      <td>103.000000</td>\n",
       "      <td>32853.500000</td>\n",
       "      <td>24.000000</td>\n",
       "      <td>4.000000</td>\n",
       "    </tr>\n",
       "    <tr>\n",
       "      <td>max</td>\n",
       "      <td>5792.000000</td>\n",
       "      <td>16063.000000</td>\n",
       "      <td>119.000000</td>\n",
       "      <td>40693.000000</td>\n",
       "      <td>37.000000</td>\n",
       "      <td>15.000000</td>\n",
       "    </tr>\n",
       "  </tbody>\n",
       "</table>\n",
       "</div>"
      ],
      "text/plain": [
       "       generation solar  generation wind onshore  generation other renewable  \\\n",
       "count       8758.000000              8758.000000                 8758.000000   \n",
       "mean        1372.868235              5584.157799                   97.894154   \n",
       "std         1658.227644              3307.747961                    7.635980   \n",
       "min            2.000000               243.000000                    4.000000   \n",
       "25%           52.000000              2913.000000                   93.000000   \n",
       "50%          560.000000              4962.000000                   98.000000   \n",
       "75%         2438.750000              7703.000000                  103.000000   \n",
       "max         5792.000000             16063.000000                  119.000000   \n",
       "\n",
       "       total load actual         temp   wind_speed  \n",
       "count        8758.000000  8758.000000  8758.000000  \n",
       "mean        29063.609386    18.225678     3.011761  \n",
       "std          4627.361696     7.179231     2.179660  \n",
       "min         18179.000000     0.000000     0.000000  \n",
       "25%         25118.500000    13.000000     1.000000  \n",
       "50%         29171.500000    18.000000     2.000000  \n",
       "75%         32853.500000    24.000000     4.000000  \n",
       "max         40693.000000    37.000000    15.000000  "
      ]
     },
     "execution_count": 57,
     "metadata": {},
     "output_type": "execute_result"
    }
   ],
   "source": [
    "merged.describe() "
   ]
  },
  {
   "cell_type": "markdown",
   "metadata": {},
   "source": [
    "# Some idea on merged dataset"
   ]
  },
  {
   "cell_type": "markdown",
   "metadata": {},
   "source": [
    "- Calculating the solar,wind and other renewable geenration per month in 2018 for specific city.\n",
    "- Calculating the total load which per month for specific city in 2018\n"
   ]
  },
  {
   "cell_type": "code",
   "execution_count": 58,
   "metadata": {},
   "outputs": [],
   "source": [
    "for i in range (12):\n",
    "    if i == 0 : ## January\n",
    "        Month = merged.loc[(merged.time >='2018-01-01') & (merged.time <'2018-02-01')  ] \n",
    "        Solar_sum= Month['generation solar'].sum() \n",
    "        Wind_onshore_sum= Month['generation wind onshore'].sum() \n",
    "        Other_renewable_sum= Month['generation other renewable'].sum()\n",
    "        total_load_sum=Month['total load actual'].sum()\n",
    "    if i == 1 : ## February\n",
    "        Month = merged.loc[(merged.time >='2018-02-01') & (merged.time <'2018-03-01')  ] \n",
    "        Solar_sum= Month['generation solar'].sum() \n",
    "        Wind_onshore_sum= Month['generation wind onshore'].sum() \n",
    "        Other_renewable_sum= Month['generation other renewable'].sum()\n",
    "        total_load_sum=Month['total load actual'].sum()\n",
    "    if i == 2 : ## March\n",
    "        Month = merged.loc[(merged.time >='2018-03-01') & (merged.time <'2018-04-01')  ]\n",
    "        Solar_sum= Month['generation solar'].sum()\n",
    "        Wind_onshore_sum= Month['generation wind onshore'].sum() \n",
    "        Other_renewable_sum= Month['generation other renewable'].sum()\n",
    "        total_load_sum=Month['total load actual'].sum()\n",
    "    if i == 3 : ## April\n",
    "        Month = merged.loc[(merged.time >='2018-04-01') & (merged.time <'2018-05-01')  ] \n",
    "        Solar_sum= Month['generation solar'].sum() \n",
    "        Wind_onshore_sum= Month['generation wind onshore'].sum() \n",
    "        Other_renewable_sum= Month['generation other renewable'].sum()\n",
    "        total_load_sum=Month['total load actual'].sum()\n",
    "    if i == 4 : ## May\n",
    "        Month = merged.loc[(merged.time >='2018-05-01') & (merged.time <'2018-06-01')  ] \n",
    "        Solar_sum= Month['generation solar'].sum() \n",
    "        Wind_onshore_sum= Month['generation wind onshore'].sum() \n",
    "        Other_renewable_sum= Month['generation other renewable'].sum()\n",
    "        total_load_sum=Month['total load actual'].sum()\n",
    "    if i == 5 : ## June\n",
    "        Month = merged.loc[(merged.time >='2018-06-01') & (merged.time <'2018-07-01')  ]\n",
    "        Solar_sum= Month['generation solar'].sum() \n",
    "        Wind_onshore_sum= Month['generation wind onshore'].sum() \n",
    "        Other_renewable_sum= Month['generation other renewable'].sum()\n",
    "        total_load_sum=Month['total load actual'].sum()\n",
    "    if i == 6 : ## July\n",
    "        Month = merged.loc[(merged.time >='2018-07-01') & (merged.time <'2018-08-01')  ] \n",
    "        Solar_sum= Month['generation solar'].sum() \n",
    "        Wind_onshore_sum= Month['generation wind onshore'].sum() \n",
    "        Other_renewable_sum= Month['generation other renewable'].sum()\n",
    "        total_load_sum=Month['total load actual'].sum()\n",
    "    if i == 7 : ## August\n",
    "        Month = merged.loc[(merged.time >='2018-08-01') & (merged.time <'2018-09-01')  ] \n",
    "        Solar_sum= Month['generation solar'].sum()\n",
    "        Wind_onshore_sum= Month['generation wind onshore'].sum() \n",
    "        Other_renewable_sum= Month['generation other renewable'].sum()\n",
    "        total_load_sum=Month['total load actual'].sum()\n",
    "    if i == 8 : ## September\n",
    "        Month = merged.loc[(merged.time >='2018-09-01') & (merged.time <'2018-10-01')  ] \n",
    "        Solar_sum= Month['generation solar'].sum()\n",
    "        Wind_onshore_sum= Month['generation wind onshore'].sum() \n",
    "        Other_renewable_sum= Month['generation other renewable'].sum()\n",
    "        total_load_sum=Month['total load actual'].sum()\n",
    "    if i == 9 : ## October\n",
    "        Month = merged.loc[(merged.time >='2018-10-01') & (merged.time <'2018-11-01')  ]\n",
    "        Solar_sum= Month['generation solar'].sum() \n",
    "        Wind_onshore_sum= Month['generation wind onshore'].sum() \n",
    "        Other_renewable_sum= Month['generation other renewable'].sum()\n",
    "        total_load_sum=Month['total load actual'].sum()\n",
    "    if i == 10: ##November \n",
    "        Month = merged.loc[(merged.time >='2018-11-01') & (merged.time <'2018-12-01')  ] \n",
    "        Solar_sum= Month['generation solar'].sum() \n",
    "        Wind_onshore_sum= Month['generation wind onshore'].sum() \n",
    "        Other_renewable_sum= Month['generation other renewable'].sum()\n",
    "        total_load_sum=Month['total load actual'].sum()\n",
    "    if i == 11: ## December\n",
    "        Month = merged.loc[(merged.time >='2018-12-01') & (merged.time <'2018-13-01')  ] \n",
    "        Solar_sum= Month['generation solar'].sum() \n",
    "        Wind_onshore_sum= Month['generation wind onshore'].sum() \n",
    "        Other_renewable_sum= Month['generation other renewable'].sum()\n",
    "        total_load_sum=Month['total load actual'].sum()\n",
    "\n",
    "    Ave_temp= Month['temp'].mean()\n",
    "    Ave_temp_vector.append (Ave_temp)\n",
    "    Ave_wind_speed=Month['wind_speed'].mean()\n",
    "    Ave_wind_speed_vector.append(Ave_wind_speed)\n",
    "    Solar_sum_vector.append(Solar_sum)\n",
    "    Wind_sum_vector.append(Wind_onshore_sum)\n",
    "    other_renewable_sum_vector.append(Other_renewable_sum)\n",
    "    total_load_sum_vector.append(total_load_sum)"
   ]
  },
  {
   "cell_type": "markdown",
   "metadata": {},
   "source": [
    " - Plot the amount of power(MW) Solar generation for city celected for 2018 per month."
   ]
  },
  {
   "cell_type": "code",
   "execution_count": 59,
   "metadata": {},
   "outputs": [
    {
     "data": {
      "image/png": "[encoded data removed]",
      "text/plain": [
       "<Figure size 432x288 with 1 Axes>"
      ]
     },
     "metadata": {
      "needs_background": "light"
     },
     "output_type": "display_data"
    }
   ],
   "source": [
    "Month_name=['Jan' , 'Feb' , 'Mar','Apr','May','Jun','Jul','Aug','Sep','Oct','Nov','Dec']\n",
    "plt.bar(Month_name, Solar_sum_vector)\n",
    "plt.ylabel('Power(MW)')\n",
    "plt.xlabel('Month')\n",
    "plt.title('Solar generation in 2018 in '+str(City_name))\n",
    "plt.show()"
   ]
  },
  {
   "cell_type": "markdown",
   "metadata": {},
   "source": [
    "- Plot the amount of power(MW) Wind ONshore for city celected for 2018 per month."
   ]
  },
  {
   "cell_type": "code",
   "execution_count": 60,
   "metadata": {},
   "outputs": [
    {
     "data": {
      "image/png": "[encoded data removed]",
      "text/plain": [
       "<Figure size 432x288 with 1 Axes>"
      ]
     },
     "metadata": {
      "needs_background": "light"
     },
     "output_type": "display_data"
    }
   ],
   "source": [
    "plt.bar(Month_name, Wind_sum_vector)\n",
    "plt.xlabel('MONTH')\n",
    "plt.ylabel('Power(MW)')\n",
    "plt.title('Wind generation for '+str(City_name))\n",
    "plt.show()  "
   ]
  },
  {
   "cell_type": "markdown",
   "metadata": {},
   "source": [
    "- Plot annual Generation for 2018 for the celected city"
   ]
  },
  {
   "cell_type": "code",
   "execution_count": 61,
   "metadata": {},
   "outputs": [
    {
     "data": {
      "image/png": "[encoded data removed]",
      "text/plain": [
       "<Figure size 432x288 with 1 Axes>"
      ]
     },
     "metadata": {},
     "output_type": "display_data"
    }
   ],
   "source": [
    "for i in range(len(total_load_sum_vector)):\n",
    "    total_load_sum_year += total_load_sum_vector[i]\n",
    "    Solar_sum_year += Solar_sum_vector[i]\n",
    "    Wind_sum_year += Wind_sum_vector[i]\n",
    "    other_renewable_sum_year += other_renewable_sum_vector[i]\n",
    "\n",
    "values=[total_load_sum_year , Solar_sum_year , Wind_sum_year , other_renewable_sum_year]\n",
    "colors=['b','g','r','c']\n",
    "labels=['non-renewable generation','Solar generation','Wind generation','other renewable generation']\n",
    "plt.pie(values, colors=colors,autopct='%1.1f%%', labels= labels,counterclock=False, shadow=True)\n",
    "plt.title('2018 power generation for Valencia')\n",
    "plt.show()"
   ]
  },
  {
   "cell_type": "code",
   "execution_count": null,
   "metadata": {},
   "outputs": [],
   "source": []
  }
 ],
 "metadata": {
  "kernelspec": {
   "display_name": "Python 3",
   "language": "python",
   "name": "python3"
  },
  "language_info": {
   "codemirror_mode": {
    "name": "ipython",
    "version": 3
   },
   "file_extension": ".py",
   "mimetype": "text/x-python",
   "name": "python",
   "nbconvert_exporter": "python",
   "pygments_lexer": "ipython3",
   "version": "3.7.3"
  }
 },
 "nbformat": 4,
 "nbformat_minor": 2
}
